{
 "cells": [
  {
   "cell_type": "code",
   "execution_count": 1,
   "metadata": {},
   "outputs": [],
   "source": [
    "import pandas as pd\n",
    "import numpy as np\n",
    "import haversine as hs\n",
    "import os, sys\n",
    "import csv"
   ]
  },
  {
   "cell_type": "code",
   "execution_count": 3,
   "metadata": {},
   "outputs": [
    {
     "name": "stderr",
     "output_type": "stream",
     "text": [
      "C:\\Users\\User\\AppData\\Local\\Temp\\ipykernel_7328\\369921849.py:6: FutureWarning: The default value of regex will change from True to False in a future version. In addition, single character regular expressions will *not* be treated as literal strings when regex=True.\n",
      "  geometry = geometry.str.replace('(', '')\n",
      "C:\\Users\\User\\AppData\\Local\\Temp\\ipykernel_7328\\369921849.py:7: FutureWarning: The default value of regex will change from True to False in a future version. In addition, single character regular expressions will *not* be treated as literal strings when regex=True.\n",
      "  geometry = geometry.str.replace(')', '')\n"
     ]
    }
   ],
   "source": [
    "df = pd.read_csv('link_seoul_ver3.csv', encoding='cp949')\n",
    "link = df['LINK_ID'].values\n",
    "geometry = df['geometry']\n",
    "\n",
    "geometry = geometry.str.replace('LINESTRING', '')\n",
    "geometry = geometry.str.replace('(', '')\n",
    "geometry = geometry.str.replace(')', '')\n",
    "geometry = geometry.str.replace(' ', ',')\n",
    "geometry = geometry.str.replace(',,', ',')\n",
    "geometry = geometry.str.split(',')\n",
    "for i in range(len(geometry)):\n",
    "    geometry[i].pop(0)\n",
    "\n",
    "\n",
    "def distance(line_x1, line_y1, line_x2, line_y2, point_x, point_y):\n",
    "    ab = np.array([line_x2 - line_x1, line_y2 - line_y1])\n",
    "    ac = np.array([point_x - line_x1, point_y - line_y1])\n",
    "    result = np.array([line_x1, line_y1]) + ab * (np.dot(ab, ac) / np.dot(ab, ab))\n",
    "    return hs.haversine((point_x, point_y), (result[0], result[1]))\n",
    "\n",
    "\n",
    "'''\n",
    "def distance(x1, y1, x2, y2, x3, y3):\n",
    "    if x1 == x2:\n",
    "        m = 0\n",
    "    else:\n",
    "        m = (y2 - y1) / (x2 - x1)\n",
    "    a = m\n",
    "    b = -1\n",
    "    c = y1 - m * x1\n",
    "    d = abs(a * x3 + b * y3 + c) / np.sqrt(a ** 2 + b ** 2)\n",
    "    return d\n",
    "'''\n",
    "\n",
    "\n",
    "def distance_link(link, geometry, x, y):\n",
    "    d = []\n",
    "    for i in range(0, len(geometry[link]) - 2, 2):\n",
    "        x1 = float(geometry[link][i + 1])\n",
    "        y1 = float(geometry[link][i])\n",
    "        x2 = float(geometry[link][i + 3])\n",
    "        y2 = float(geometry[link][i + 2])\n",
    "        d.append(distance(x1, y1, x2, y2, x, y))\n",
    "    return min(d)\n",
    "\n",
    "\n",
    "def distance_haversine(link, geometry, x, y):\n",
    "    for i in range(len(geometry[link])):\n",
    "        if i % 2 == 0:\n",
    "            x1 = float(geometry[link][i + 1])\n",
    "            y1 = float(geometry[link][i])\n",
    "            if hs.haversine((x, y), (x1, y1)) <= 0.2:\n",
    "                return True\n",
    "            else:\n",
    "                continue\n",
    "        else:\n",
    "            continue\n",
    "\n",
    "\n",
    "def link_haversine(geometry, x, y):\n",
    "    link_haversine = []\n",
    "    for i in range(len(geometry)):\n",
    "        if distance_haversine(i, geometry, x, y):\n",
    "            link_haversine.append(i)\n",
    "    return link_haversine\n",
    "\n",
    "\n",
    "def link_shortest(link_haversine, geometry, x, y):\n",
    "    d = []\n",
    "    for i in range(len(link_haversine)):\n",
    "        d.append(distance_link(link_haversine[i], geometry, x, y))\n",
    "    if len(d) == 0:\n",
    "        return None\n",
    "    else:\n",
    "        return link_haversine[d.index(min(d))]\n",
    "\n",
    "\n",
    "def mapping_link(x, y):\n",
    "    linked_haversine = link_haversine(geometry, x, y)\n",
    "    return link_shortest(linked_haversine, geometry, x, y)\n",
    "\n",
    "\n",
    "def indexToLink(index: int) -> int:\n",
    "    return int(df.iloc[index][\"LINK_ID\"])\n",
    "\n",
    "def save_result(data):\n",
    "    data_list = []\n",
    "\n",
    "    for idx in range(len(data)):\n",
    "        link_id = mapping_link(data.iloc[idx, 4], data.iloc[idx, 3])\n",
    "\n",
    "        if link_id is None:\n",
    "            link_id = np.nan\n",
    "\n",
    "        else:\n",
    "            link_id = indexToLink(link_id)\n",
    "        \n",
    "        data_list.append(link_id)\n",
    "\n",
    "    return data_list\n",
    "\n",
    "\n",
    "# loc1 = (37.547871, 126.997193)\n",
    "# print(mapping_link(loc1[0],loc1[1]))\n",
    "# 입력은 위경도"
   ]
  },
  {
   "cell_type": "code",
   "execution_count": 6,
   "metadata": {},
   "outputs": [
    {
     "name": "stdout",
     "output_type": "stream",
     "text": [
      "      Unnamed: 0        좌표정보(x)        좌표정보(y)          경도         위도\n",
      "0              0  169817.360037  344273.806584  126.660586  36.599128\n",
      "1              1  149762.965546  364903.326481  126.435112  36.784170\n",
      "2              2  342040.078340  263570.803333  128.570464  35.862035\n",
      "3              3  328965.130661  250161.463857  128.423592  35.743026\n",
      "4              4  343594.783952  265157.612523  128.587956  35.876104\n",
      "...          ...            ...            ...         ...        ...\n",
      "3278        3278  192165.934530  446508.000793  126.909279  37.520772\n",
      "3279        3279  193321.886519  447552.076521  126.922346  37.530188\n",
      "3280        3280  193019.645823  447560.162310  126.918926  37.530258\n",
      "3281        3281  193321.886519  447552.076521  126.922346  37.530188\n",
      "3282        3282  193321.886519  447552.076521  126.922346  37.530188\n",
      "\n",
      "[3283 rows x 5 columns]\n"
     ]
    }
   ],
   "source": [
    "culture1 = pd.read_csv(\"POI/문화/공연장.csv\", encoding='cp949')\n",
    "print(culture1)"
   ]
  },
  {
   "cell_type": "code",
   "execution_count": null,
   "metadata": {},
   "outputs": [],
   "source": [
    "result = save_result(culture1)\n",
    "culture1[\"LINK\"] = result\n",
    "culture1 = culture1.dropna(axis=0)\n",
    "\n",
    "print(culture1)"
   ]
  },
  {
   "cell_type": "code",
   "execution_count": null,
   "metadata": {},
   "outputs": [],
   "source": [
    "culture1.to_csv(\"POI/문화/공연장_link.csv\")"
   ]
  }
 ],
 "metadata": {
  "kernelspec": {
   "display_name": "Python 3.9.11 64-bit",
   "language": "python",
   "name": "python3"
  },
  "language_info": {
   "codemirror_mode": {
    "name": "ipython",
    "version": 3
   },
   "file_extension": ".py",
   "mimetype": "text/x-python",
   "name": "python",
   "nbconvert_exporter": "python",
   "pygments_lexer": "ipython3",
   "version": "3.9.11"
  },
  "orig_nbformat": 4,
  "vscode": {
   "interpreter": {
    "hash": "cf92aa13fedf815d5c8dd192b8d835913fde3e8bc926b2a0ad6cc74ef2ba3ca2"
   }
  }
 },
 "nbformat": 4,
 "nbformat_minor": 2
}
